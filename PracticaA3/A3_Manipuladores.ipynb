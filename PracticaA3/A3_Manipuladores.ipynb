{
 "cells": [
  {
   "cell_type": "code",
   "execution_count": 2,
   "metadata": {},
   "outputs": [],
   "source": [
    "import numpy as np\n",
    "import matplotlib.pyplot as plt\n",
    "from mpl_toolkits.mplot3d import Axes3D"
   ]
  },
  {
   "cell_type": "code",
   "execution_count": null,
   "metadata": {},
   "outputs": [],
   "source": [
    "def An(theta, alpha, ai, di):\n",
    "    return np.array([[np.cos(theta),-1*np.cos(theta)*np.sin(theta),np.sin(alpha)*np.sin(theta),ai*np.cos(theta)],\n",
    "    [np.sin(theta),np.cos(theta)*np.cos(alpha),-1*np.sin(alpha)*np.cos(theta),ai*np.sin(theta)],\n",
    "    [0,np.sin(alpha),np.cos(alpha),di],\n",
    "    [0,0,0,1]]);\n"
   ]
  },
  {
   "cell_type": "raw",
   "metadata": {},
   "source": [
    "Probamos la matriz de transformación con los parámetros Denavit-Hatenberg del manipulador Scara para A1"
   ]
  },
  {
   "cell_type": "code",
   "execution_count": 11,
   "metadata": {},
   "outputs": [
    {
     "name": "stdout",
     "output_type": "stream",
     "text": [
      "[[  1.  -0.   0. 350.]\n",
      " [  0.   1.  -0.   0.]\n",
      " [  0.   0.   1. 377.]\n",
      " [  0.   0.   0.   1.]]\n"
     ]
    }
   ],
   "source": [
    "print(An(0,0,350,377))\n"
   ]
  },
  {
   "cell_type": "raw",
   "metadata": {},
   "source": [
    "Calculamos A04 a partir de los anteriores"
   ]
  },
  {
   "cell_type": "code",
   "execution_count": 23,
   "metadata": {},
   "outputs": [],
   "source": [
    "def A04(theta1, theta2, theta4, a1, a2, d1, d3, d4): \n",
    "    ux = np.cos(theta1 +theta2 - theta4);\n",
    "    uy = np.sin(theta1 +theta2 - theta4);\n",
    "    uz = 0;\n",
    "    vx = np.sin(theta1 + theta2 - theta4);\n",
    "    vy = -np.cos(theta1 + theta2 - theta4);\n",
    "    vz = 0;\n",
    "    wx = 0;\n",
    "    wy = 0;\n",
    "    wz = -1;\n",
    "    qx = a1*np.cos(theta1)+a2*np.cos(theta1 +theta2);\n",
    "    qy = a1*np.sin(theta1)+a2*np.sin(theta1 +theta2);\n",
    "    qz = d1 -d3- d4;\n",
    "    matrix = np.array([[ux,vx,wx,qx],[uy,vy,wy,qy],[uz,vz,wz,qz],[0,0,0,1]]);\n",
    "    return matrix;\n",
    "    "
   ]
  },
  {
   "cell_type": "raw",
   "metadata": {},
   "source": [
    "Calcularemos A04=A01*A12*A23*A34 para q=(0,0,0,0)"
   ]
  },
  {
   "cell_type": "code",
   "execution_count": 13,
   "metadata": {},
   "outputs": [
    {
     "name": "stdout",
     "output_type": "stream",
     "text": [
      "[[ 1.0000000e+00  0.0000000e+00  0.0000000e+00  7.0000000e+02]\n",
      " [ 0.0000000e+00 -1.0000000e+00 -1.2246468e-16 -4.2862638e-15]\n",
      " [ 0.0000000e+00  1.2246468e-16 -1.0000000e+00  3.4200000e+02]\n",
      " [ 0.0000000e+00  0.0000000e+00  0.0000000e+00  1.0000000e+00]]\n"
     ]
    }
   ],
   "source": [
    "print(np.dot(np.dot(np.dot(An(0,0,350,377),An(0,np.pi,350,0)),An(0,0,0,0)),An(0,0,0,35)))"
   ]
  },
  {
   "cell_type": "code",
   "execution_count": 24,
   "metadata": {},
   "outputs": [
    {
     "name": "stdout",
     "output_type": "stream",
     "text": [
      "[[  1.   0.   0. 700.]\n",
      " [  0.  -1.   0.   0.]\n",
      " [  0.   0.  -1. 342.]\n",
      " [  0.   0.   0.   1.]]\n"
     ]
    }
   ],
   "source": [
    "print(A04(0,0,0,350,350,377,0,35))"
   ]
  },
  {
   "cell_type": "markdown",
   "metadata": {},
   "source": [
    "# CINEMÁTICA DIRECTA"
   ]
  },
  {
   "cell_type": "raw",
   "metadata": {},
   "source": [
    "Definimos la matriz A04 para el caso concreto de nuestro manilpulador SCARA RRPR"
   ]
  },
  {
   "cell_type": "code",
   "execution_count": 25,
   "metadata": {},
   "outputs": [],
   "source": [
    "def A04SCARA(theta1, theta2, theta4, d4): \n",
    "    ux = np.cos(theta1 +theta2 - theta4);\n",
    "    uy = np.sin(theta1 +theta2 - theta4);\n",
    "    uz = 0;\n",
    "    vx = np.sin(theta1 + theta2 - theta4);\n",
    "    vy = -np.cos(theta1 + theta2 - theta4);\n",
    "    vz = 0;\n",
    "    wx = 0;\n",
    "    wy = 0;\n",
    "    wz = -1;\n",
    "    qx = 350*np.cos(theta1)+350*np.cos(theta1 +theta2);\n",
    "    qy = 350*np.sin(theta1)+350*np.sin(theta1 +theta2);\n",
    "    qz = 377 -35- d4;\n",
    "    matrix = np.array([[ux,vx,wx,qx],[uy,vy,wy,qy],[uz,vz,wz,qz],[0,0,0,1]]);\n",
    "    return matrix;\n",
    "    "
   ]
  },
  {
   "cell_type": "markdown",
   "metadata": {},
   "source": [
    "q = (0, 0, 0, 0)"
   ]
  },
  {
   "cell_type": "code",
   "execution_count": 26,
   "metadata": {
    "scrolled": true
   },
   "outputs": [
    {
     "name": "stdout",
     "output_type": "stream",
     "text": [
      "[[  1.   0.   0. 700.]\n",
      " [  0.  -1.   0.   0.]\n",
      " [  0.   0.  -1. 342.]\n",
      " [  0.   0.   0.   1.]]\n"
     ]
    }
   ],
   "source": [
    "print(A04SCARA(0,0,0,0))"
   ]
  },
  {
   "cell_type": "raw",
   "metadata": {},
   "source": [
    "q =  (0, π/2, 0, 0)"
   ]
  },
  {
   "cell_type": "code",
   "execution_count": 31,
   "metadata": {},
   "outputs": [
    {
     "name": "stdout",
     "output_type": "stream",
     "text": [
      "[[ 6.123234e-17  1.000000e+00  0.000000e+00  3.500000e+02]\n",
      " [ 1.000000e+00 -6.123234e-17  0.000000e+00  3.500000e+02]\n",
      " [ 0.000000e+00  0.000000e+00 -1.000000e+00  3.420000e+02]\n",
      " [ 0.000000e+00  0.000000e+00  0.000000e+00  1.000000e+00]]\n"
     ]
    }
   ],
   "source": [
    "print(A04SCARA(0,np.pi/2,0,0))"
   ]
  },
  {
   "cell_type": "raw",
   "metadata": {},
   "source": [
    "q = (−π/2, π/2, 0, a)"
   ]
  },
  {
   "cell_type": "code",
   "execution_count": 32,
   "metadata": {},
   "outputs": [
    {
     "name": "stdout",
     "output_type": "stream",
     "text": [
      "[[   1.    0.    0.  350.]\n",
      " [   0.   -1.    0. -350.]\n",
      " [   0.    0.   -1.  -58.]\n",
      " [   0.    0.    0.    1.]]\n"
     ]
    }
   ],
   "source": [
    "print(A04SCARA(-np.pi/2,np.pi/2,0,400))"
   ]
  },
  {
   "cell_type": "raw",
   "metadata": {},
   "source": [
    "q = (π, 0, π/2, a/2)"
   ]
  },
  {
   "cell_type": "code",
   "execution_count": 33,
   "metadata": {},
   "outputs": [
    {
     "name": "stdout",
     "output_type": "stream",
     "text": [
      "[[ 6.12323400e-17  1.00000000e+00  0.00000000e+00 -7.00000000e+02]\n",
      " [ 1.00000000e+00 -6.12323400e-17  0.00000000e+00  8.57252759e-14]\n",
      " [ 0.00000000e+00  0.00000000e+00 -1.00000000e+00  1.42000000e+02]\n",
      " [ 0.00000000e+00  0.00000000e+00  0.00000000e+00  1.00000000e+00]]\n"
     ]
    }
   ],
   "source": [
    "print(A04SCARA(np.pi,0,np.pi/2,200))"
   ]
  },
  {
   "cell_type": "markdown",
   "metadata": {},
   "source": [
    "# CINEMÁTICA INVERSA"
   ]
  },
  {
   "cell_type": "code",
   "execution_count": null,
   "metadata": {},
   "outputs": [],
   "source": [
    "def A04Inversa(px, py, pz, phi)"
   ]
  }
 ],
 "metadata": {
  "kernelspec": {
   "display_name": "Python 3",
   "language": "python",
   "name": "python3"
  },
  "language_info": {
   "codemirror_mode": {
    "name": "ipython",
    "version": 3
   },
   "file_extension": ".py",
   "mimetype": "text/x-python",
   "name": "python",
   "nbconvert_exporter": "python",
   "pygments_lexer": "ipython3",
   "version": "3.8.3"
  }
 },
 "nbformat": 4,
 "nbformat_minor": 4
}
